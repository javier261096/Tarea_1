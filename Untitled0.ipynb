{
  "nbformat": 4,
  "nbformat_minor": 0,
  "metadata": {
    "colab": {
      "name": "Untitled0.ipynb",
      "provenance": [],
      "authorship_tag": "ABX9TyNB0aDRCM5atH0N33+0tO3y",
      "include_colab_link": true
    },
    "kernelspec": {
      "name": "python3",
      "display_name": "Python 3"
    }
  },
  "cells": [
    {
      "cell_type": "markdown",
      "metadata": {
        "id": "view-in-github",
        "colab_type": "text"
      },
      "source": [
        "<a href=\"https://colab.research.google.com/github/javier261096/Tarea_1/blob/main/Untitled0.ipynb\" target=\"_parent\"><img src=\"https://colab.research.google.com/assets/colab-badge.svg\" alt=\"Open In Colab\"/></a>"
      ]
    },
    {
      "cell_type": "code",
      "metadata": {
        "colab": {
          "base_uri": "https://localhost:8080/"
        },
        "id": "mK5yDZrEsRoS",
        "outputId": "8024f9f0-2358-4b02-d82c-17d47d784ce2"
      },
      "source": [
        "# Creando una variable string\r\n",
        "Mensaje = \"Hola\"\r\n",
        "\r\n",
        "# Imprimiendo la variable\r\n",
        "print(Mensaje)\r\n",
        "\r\n",
        "print(\"\\t¿Como estan? \\n \\tEstoy bien\", Mensaje)\r\n",
        "# \\n es un salto de linea\r\n",
        "# \\t es un tabulador"
      ],
      "execution_count": 12,
      "outputs": [
        {
          "output_type": "stream",
          "text": [
            "Hola\n",
            "\t¿Como estas? \n",
            " \tEstoy bien Hola\n"
          ],
          "name": "stdout"
        }
      ]
    },
    {
      "cell_type": "code",
      "metadata": {
        "colab": {
          "base_uri": "https://localhost:8080/"
        },
        "id": "XtvBxKfjyKjk",
        "outputId": "53314038-a7da-40ca-db47-e1610e28f9a6"
      },
      "source": [
        "# Concatenacion de strings\r\n",
        "M_1 = \"Estoy\"\r\n",
        "M_2 = \" dando\"\r\n",
        "M_3 = \" una clase\"\r\n",
        "M_total = M_1 + M_2 + M_3\r\n",
        "\r\n",
        "# print(M_total)\r\n",
        "# print(M_1 + M_2 + M_3 + \"  de Python\")\r\n",
        "\r\n",
        "# No hagan esto\r\n",
        "Numero_1 = \"1\"\r\n",
        "Numero_2 = \"2\"\r\n",
        "Numero_3 = Numero_1 + Numero_2\r\n",
        "print(Numero_3)"
      ],
      "execution_count": 18,
      "outputs": [
        {
          "output_type": "stream",
          "text": [
            "12\n"
          ],
          "name": "stdout"
        }
      ]
    },
    {
      "cell_type": "code",
      "metadata": {
        "colab": {
          "base_uri": "https://localhost:8080/"
        },
        "id": "RN2PFsi21FC-",
        "outputId": "c4cfc499-d826-4af0-a405-40dd506b593e"
      },
      "source": [
        "print(\"¿Cual es tu nombre?\")\r\n",
        "\r\n",
        "# Solicitando al usuario un string\r\n",
        "\r\n",
        "Nombre = input()\r\n",
        "\r\n",
        "# print(Nombre)\r\n",
        "# solicitando un string al usiario mediante un mensaje\r\n",
        "Apellido = input(\"¿Cual es tu apellido? \")\r\n",
        "\r\n",
        "print(\"Mi nombre es\",Nombre,Apellido)"
      ],
      "execution_count": 23,
      "outputs": [
        {
          "output_type": "stream",
          "text": [
            "¿Cual es tu nombre?\n",
            "Javier\n",
            "¿Cual es tu apellido? Avalos Duarte\n",
            "Mi nombre es Javier Avalos Duarte\n"
          ],
          "name": "stdout"
        }
      ]
    },
    {
      "cell_type": "code",
      "metadata": {
        "colab": {
          "base_uri": "https://localhost:8080/"
        },
        "id": "vps3w7vu2jTV",
        "outputId": "8d107c63-a88c-4f01-90fa-71cc217573aa"
      },
      "source": [
        "\r\n",
        "# Tarea 1\r\n",
        "Primer_Nombre = input(\"Ingresa primer nombre\")\r\n",
        "Segundo_Nombre = input(\"Ingresa segundo nombre\")\r\n",
        "Apellido_Paterno = input(\"Ingresa apellido paterno\")\r\n",
        "Apellido_Materno = input(\"Ingresa apellido materno\")\r\n",
        "print(\"\\nMucho gusto\",Primer_Nombre,Segundo_Nombre,Apellido_Paterno,Apellido_Materno)"
      ],
      "execution_count": 27,
      "outputs": [
        {
          "output_type": "stream",
          "text": [
            "Ingresa primer nombreJavier\n",
            "Ingresa segundo nombre\n",
            "Ingresa apellido paternoAvalos\n",
            "Ingresa apellido maternoDuarte\n",
            "\n",
            "Mucho gusto Javier  Avalos Duarte\n"
          ],
          "name": "stdout"
        }
      ]
    },
    {
      "cell_type": "code",
      "metadata": {
        "id": "YZ_j-JSM7WO4"
      },
      "source": [
        ""
      ],
      "execution_count": null,
      "outputs": []
    }
  ]
}